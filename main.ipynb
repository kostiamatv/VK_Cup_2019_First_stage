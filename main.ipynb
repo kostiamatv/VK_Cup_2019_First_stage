{
 "cells": [
  {
   "cell_type": "code",
   "execution_count": 1,
   "metadata": {},
   "outputs": [],
   "source": [
    "import string\n",
    "import numpy as np\n",
    "import pandas as pd\n",
    "import matplotlib.pyplot as plt\n",
    "from sklearn.linear_model import LinearRegression\n",
    "from sklearn.tree import DecisionTreeClassifier\n",
    "from sklearn.ensemble import RandomForestClassifier, GradientBoostingClassifier\n",
    "from sklearn.model_selection import GridSearchCV, train_test_split\n",
    "from catboost import CatBoostClassifier\n",
    "from sklearn.metrics import roc_auc_score\n",
    "from sklearn.utils import resample"
   ]
  },
  {
   "cell_type": "code",
   "execution_count": 2,
   "metadata": {},
   "outputs": [],
   "source": [
    "data = pd.read_csv(\"data.csv\", sep=';').set_index('ID')\n",
    "train = pd.merge(data, pd.read_csv(\"train.csv\", sep=';').set_index('ID'), on='ID').drop_duplicates(\"Question\")\n",
    "test = pd.merge(data, pd.read_csv(\"test.csv\", sep=';').set_index('ID'), on='ID')"
   ]
  },
  {
   "cell_type": "markdown",
   "metadata": {},
   "source": [
    "Creating new features (final features)"
   ]
  },
  {
   "cell_type": "code",
   "execution_count": 3,
   "metadata": {},
   "outputs": [],
   "source": [
    "train_df = pd.merge(data, pd.read_csv(\"train.csv\", sep=';').set_index('ID'), on='ID').drop_duplicates(\"Question\")\n",
    "test_df = pd.merge(data, pd.read_csv(\"test.csv\", sep=';').set_index('ID'), on='ID')\n",
    "\n",
    "## Number of words in the text ##\n",
    "train_df[\"num_words\"] = train_df[\"Question\"].apply(lambda x: len(str(x).split()))\n",
    "test_df[\"num_words\"] = test_df[\"Question\"].apply(lambda x: len(str(x).split()))\n",
    "\n",
    "## Number of unique words in the text ##\n",
    "train_df[\"num_unique_words\"] = train_df[\"Question\"].apply(lambda x: len(set(str(x).split())))\n",
    "test_df[\"num_unique_words\"] = test_df[\"Question\"].apply(lambda x: len(set(str(x).split())))\n",
    "\n",
    "## Number of characters in the text ##\n",
    "train_df[\"num_chars\"] = train_df[\"Question\"].apply(lambda x: len(str(x)))\n",
    "test_df[\"num_chars\"] = test_df[\"Question\"].apply(lambda x: len(str(x)))\n",
    "\n",
    "## Number of punctuations in the text ##\n",
    "train_df[\"num_punctuations\"] =train_df['Question'].apply(lambda x: len([c for c in str(x) if c in string.punctuation]) )\n",
    "test_df[\"num_punctuations\"] =test_df['Question'].apply(lambda x: len([c for c in str(x) if c in string.punctuation]) )\n",
    "\n",
    "## Number of title case words in the text ##\n",
    "train_df[\"num_words_upper\"] = train_df[\"Question\"].apply(lambda x: len([w for w in str(x).split() if w.isupper()]))\n",
    "test_df[\"num_words_upper\"] = test_df[\"Question\"].apply(lambda x: len([w for w in str(x).split() if w.isupper()]))\n",
    "\n",
    "## Number of letters upper\n",
    "train_df[\"num_letters_upper\"] = train_df[\"Question\"].apply(lambda x: len([w for w in str(x) if w.isupper()]))\n",
    "test_df[\"num_letters_upper\"] = test_df[\"Question\"].apply(lambda x: len([w for w in str(x) if w.isupper()]))\n",
    "\n",
    "# ## Number of letters lower\n",
    "# train_df[\"num_letters\"] = train_df[\"Question\"].apply(lambda x: len([w for w in str(x) if w.isalpha()]))\n",
    "# test_df[\"num_letters\"] = test_df[\"Question\"].apply(lambda x: len([w for w in str(x) if w.isalpha()]))\n",
    "\n",
    "## Number of title case words in the text ##\n",
    "train_df[\"num_words_title\"] = train_df[\"Question\"].apply(lambda x: len([w for w in str(x).split() if w.istitle()]))\n",
    "test_df[\"num_words_title\"] = test_df[\"Question\"].apply(lambda x: len([w for w in str(x).split() if w.istitle()]))\n",
    "\n",
    "## Average length of the words in the text ##\n",
    "train_df[\"mean_word_len\"] = train_df[\"Question\"].apply(lambda x: np.mean([len(w) for w in str(x).split()]))\n",
    "test_df[\"mean_word_len\"] = test_df[\"Question\"].apply(lambda x: np.mean([len(w) for w in str(x).split()]))\n",
    "\n",
    "## Number of digits ##\n",
    "train_df[\"num_digits\"] =train_df['Question'].apply(lambda x: len([c for c in str(x) if c in string.digits]))\n",
    "test_df[\"num_digits\"] =test_df['Question'].apply(lambda x: len([c for c in str(x) if c in string.digits]))\n",
    "\n",
    "## If ends with ? ##\n",
    "train_df[\"end?\"] = train_df['Question'].apply(lambda x: int(x[-1] == '?'))\n",
    "test_df[\"end?\"] = test_df['Question'].apply(lambda x: int(x[-1] == '?'))\n",
    "\n",
    "## Getting a question word ##\n",
    "def find_question_word(s):\n",
    "    question_words = ['как', 'какой', 'какая', 'какие', 'какое', 'когда', 'где', 'кто', 'что', 'сколько', 'чего', 'кого', 'кем', 'чем', 'кому' ]\n",
    "    k = -1\n",
    "    s = s.lower()\n",
    "    for i in range(len(question_words)):\n",
    "        if question_words[i] in s:\n",
    "            k = i\n",
    "    return k\n",
    "train_df[\"question_word\"] = train_df['Question'].apply(lambda x: find_question_word(x))\n",
    "test_df[\"question_word\"] = test_df['Question'].apply(lambda x: find_question_word(x))"
   ]
  },
  {
   "cell_type": "code",
   "execution_count": 4,
   "metadata": {},
   "outputs": [
    {
     "data": {
      "text/html": [
       "<div>\n",
       "<style scoped>\n",
       "    .dataframe tbody tr th:only-of-type {\n",
       "        vertical-align: middle;\n",
       "    }\n",
       "\n",
       "    .dataframe tbody tr th {\n",
       "        vertical-align: top;\n",
       "    }\n",
       "\n",
       "    .dataframe thead th {\n",
       "        text-align: right;\n",
       "    }\n",
       "</style>\n",
       "<table border=\"1\" class=\"dataframe\">\n",
       "  <thead>\n",
       "    <tr style=\"text-align: right;\">\n",
       "      <th></th>\n",
       "      <th>Question</th>\n",
       "      <th>Answer</th>\n",
       "      <th>num_words</th>\n",
       "      <th>num_unique_words</th>\n",
       "      <th>num_chars</th>\n",
       "      <th>num_punctuations</th>\n",
       "      <th>num_words_upper</th>\n",
       "      <th>num_letters_upper</th>\n",
       "      <th>num_words_title</th>\n",
       "      <th>mean_word_len</th>\n",
       "      <th>num_digits</th>\n",
       "      <th>end?</th>\n",
       "      <th>question_word</th>\n",
       "    </tr>\n",
       "    <tr>\n",
       "      <th>ID</th>\n",
       "      <th></th>\n",
       "      <th></th>\n",
       "      <th></th>\n",
       "      <th></th>\n",
       "      <th></th>\n",
       "      <th></th>\n",
       "      <th></th>\n",
       "      <th></th>\n",
       "      <th></th>\n",
       "      <th></th>\n",
       "      <th></th>\n",
       "      <th></th>\n",
       "      <th></th>\n",
       "    </tr>\n",
       "  </thead>\n",
       "  <tbody>\n",
       "    <tr>\n",
       "      <th>1</th>\n",
       "      <td>Как зовут лодочника на реке Стикс в древнегреч...</td>\n",
       "      <td>0</td>\n",
       "      <td>9</td>\n",
       "      <td>9</td>\n",
       "      <td>62</td>\n",
       "      <td>1</td>\n",
       "      <td>0</td>\n",
       "      <td>2</td>\n",
       "      <td>2</td>\n",
       "      <td>6.000000</td>\n",
       "      <td>0</td>\n",
       "      <td>1</td>\n",
       "      <td>0</td>\n",
       "    </tr>\n",
       "    <tr>\n",
       "      <th>2</th>\n",
       "      <td>Как в химии обозначается свинец?</td>\n",
       "      <td>1</td>\n",
       "      <td>5</td>\n",
       "      <td>5</td>\n",
       "      <td>32</td>\n",
       "      <td>1</td>\n",
       "      <td>0</td>\n",
       "      <td>1</td>\n",
       "      <td>1</td>\n",
       "      <td>5.600000</td>\n",
       "      <td>0</td>\n",
       "      <td>1</td>\n",
       "      <td>0</td>\n",
       "    </tr>\n",
       "    <tr>\n",
       "      <th>3</th>\n",
       "      <td>Какой химический элемент преобладает в составе...</td>\n",
       "      <td>0</td>\n",
       "      <td>8</td>\n",
       "      <td>8</td>\n",
       "      <td>62</td>\n",
       "      <td>1</td>\n",
       "      <td>0</td>\n",
       "      <td>1</td>\n",
       "      <td>1</td>\n",
       "      <td>6.875000</td>\n",
       "      <td>0</td>\n",
       "      <td>1</td>\n",
       "      <td>1</td>\n",
       "    </tr>\n",
       "    <tr>\n",
       "      <th>4</th>\n",
       "      <td>Кто из перечисленных был пажом во времена Екат...</td>\n",
       "      <td>0</td>\n",
       "      <td>9</td>\n",
       "      <td>9</td>\n",
       "      <td>55</td>\n",
       "      <td>1</td>\n",
       "      <td>1</td>\n",
       "      <td>4</td>\n",
       "      <td>2</td>\n",
       "      <td>5.222222</td>\n",
       "      <td>0</td>\n",
       "      <td>1</td>\n",
       "      <td>7</td>\n",
       "    </tr>\n",
       "    <tr>\n",
       "      <th>5</th>\n",
       "      <td>Когда началась 2 мировая война?</td>\n",
       "      <td>0</td>\n",
       "      <td>5</td>\n",
       "      <td>5</td>\n",
       "      <td>31</td>\n",
       "      <td>1</td>\n",
       "      <td>0</td>\n",
       "      <td>1</td>\n",
       "      <td>1</td>\n",
       "      <td>5.400000</td>\n",
       "      <td>1</td>\n",
       "      <td>1</td>\n",
       "      <td>5</td>\n",
       "    </tr>\n",
       "  </tbody>\n",
       "</table>\n",
       "</div>"
      ],
      "text/plain": [
       "                                             Question  Answer  num_words  \\\n",
       "ID                                                                         \n",
       "1   Как зовут лодочника на реке Стикс в древнегреч...       0          9   \n",
       "2                    Как в химии обозначается свинец?       1          5   \n",
       "3   Какой химический элемент преобладает в составе...       0          8   \n",
       "4   Кто из перечисленных был пажом во времена Екат...       0          9   \n",
       "5                     Когда началась 2 мировая война?       0          5   \n",
       "\n",
       "    num_unique_words  num_chars  num_punctuations  num_words_upper  \\\n",
       "ID                                                                   \n",
       "1                  9         62                 1                0   \n",
       "2                  5         32                 1                0   \n",
       "3                  8         62                 1                0   \n",
       "4                  9         55                 1                1   \n",
       "5                  5         31                 1                0   \n",
       "\n",
       "    num_letters_upper  num_words_title  mean_word_len  num_digits  end?  \\\n",
       "ID                                                                        \n",
       "1                   2                2       6.000000           0     1   \n",
       "2                   1                1       5.600000           0     1   \n",
       "3                   1                1       6.875000           0     1   \n",
       "4                   4                2       5.222222           0     1   \n",
       "5                   1                1       5.400000           1     1   \n",
       "\n",
       "    question_word  \n",
       "ID                 \n",
       "1               0  \n",
       "2               0  \n",
       "3               1  \n",
       "4               7  \n",
       "5               5  "
      ]
     },
     "execution_count": 4,
     "metadata": {},
     "output_type": "execute_result"
    }
   ],
   "source": [
    "train_df.head()"
   ]
  },
  {
   "cell_type": "code",
   "execution_count": 5,
   "metadata": {},
   "outputs": [],
   "source": [
    "X = train_df.drop(columns=['Question', 'Answer'])\n",
    "y = train_df['Answer']\n",
    "X_train, X_test, y_train, y_test = train_test_split(X, y, test_size=0.3, shuffle=True)"
   ]
  },
  {
   "cell_type": "code",
   "execution_count": 6,
   "metadata": {},
   "outputs": [],
   "source": [
    "linreg = LinearRegression(normalize=True, n_jobs=-1, copy_X=True)\n",
    "linreg.fit(X_train, y_train)\n",
    "linreg_score = roc_auc_score(y_test, linreg.predict(X_test))"
   ]
  },
  {
   "cell_type": "code",
   "execution_count": 7,
   "metadata": {},
   "outputs": [
    {
     "name": "stdout",
     "output_type": "stream",
     "text": [
      "Fitting 5 folds for each of 40 candidates, totalling 200 fits\n"
     ]
    },
    {
     "name": "stderr",
     "output_type": "stream",
     "text": [
      "[Parallel(n_jobs=-1)]: Using backend LokyBackend with 8 concurrent workers.\n",
      "[Parallel(n_jobs=-1)]: Done  34 tasks      | elapsed:    2.8s\n",
      "[Parallel(n_jobs=-1)]: Done 200 out of 200 | elapsed:    4.8s finished\n"
     ]
    }
   ],
   "source": [
    "param = {'criterion' : ['gini', 'entropy'],\n",
    "        'max_depth' : [1, 5, 10, 25, 50],\n",
    "        'min_samples_split' : [2, 5 , 10, 20]\n",
    "}\n",
    "dt_gs = GridSearchCV(DecisionTreeClassifier(random_state=123), param_grid=param, cv=5, scoring='roc_auc', verbose=True, n_jobs=-1)\n",
    "dt_gs.fit(X_train, y_train)\n",
    "dt_score = roc_auc_score(y_test, dt_gs.best_estimator_.predict_proba(X_test)[:, 1])"
   ]
  },
  {
   "cell_type": "code",
   "execution_count": 8,
   "metadata": {},
   "outputs": [
    {
     "name": "stdout",
     "output_type": "stream",
     "text": [
      "Fitting 5 folds for each of 320 candidates, totalling 1600 fits\n"
     ]
    },
    {
     "name": "stderr",
     "output_type": "stream",
     "text": [
      "[Parallel(n_jobs=-1)]: Using backend LokyBackend with 8 concurrent workers.\n",
      "[Parallel(n_jobs=-1)]: Done  34 tasks      | elapsed:    7.6s\n",
      "[Parallel(n_jobs=-1)]: Done 184 tasks      | elapsed:   37.0s\n",
      "[Parallel(n_jobs=-1)]: Done 434 tasks      | elapsed:  2.1min\n",
      "[Parallel(n_jobs=-1)]: Done 784 tasks      | elapsed:  5.9min\n",
      "[Parallel(n_jobs=-1)]: Done 1234 tasks      | elapsed:  8.3min\n",
      "[Parallel(n_jobs=-1)]: Done 1600 out of 1600 | elapsed: 12.5min finished\n"
     ]
    }
   ],
   "source": [
    "param = {'criterion' : ['gini', 'entropy'],\n",
    "        'n_estimators' : [5, 10, 25, 50, 100, 150, 250, 500],\n",
    "        'max_depth' : [1, 5, 10, 25, 50],\n",
    "        'min_samples_split' : [2, 5 , 10, 20]\n",
    "}\n",
    "rf_gs = GridSearchCV(RandomForestClassifier(random_state=123), param_grid=param, cv=5, scoring='roc_auc', verbose=True, n_jobs=-1)\n",
    "rf_gs.fit(X_train, y_train)\n",
    "rf_score = roc_auc_score(y_test, rf_gs.best_estimator_.predict_proba(X_test)[:, 1])"
   ]
  },
  {
   "cell_type": "code",
   "execution_count": 9,
   "metadata": {},
   "outputs": [
    {
     "name": "stdout",
     "output_type": "stream",
     "text": [
      "Fitting 5 folds for each of 48 candidates, totalling 240 fits\n"
     ]
    },
    {
     "name": "stderr",
     "output_type": "stream",
     "text": [
      "[Parallel(n_jobs=-1)]: Using backend LokyBackend with 8 concurrent workers.\n",
      "[Parallel(n_jobs=-1)]: Done  34 tasks      | elapsed:   16.6s\n",
      "[Parallel(n_jobs=-1)]: Done 184 tasks      | elapsed:  1.4min\n",
      "[Parallel(n_jobs=-1)]: Done 240 out of 240 | elapsed:  2.0min finished\n"
     ]
    }
   ],
   "source": [
    "param = {'learning_rate' : [0.05, 0.1, 0.15, 0.2, 0.25, 0.3],\n",
    "        'n_estimators' : [5, 10, 25, 50, 100, 150, 250, 500]\n",
    "        }\n",
    "gb_gs = GridSearchCV(GradientBoostingClassifier(random_state=123), param_grid=param, cv=5, scoring='roc_auc', verbose=True, n_jobs=-1)\n",
    "gb_gs.fit(X_train, y_train)\n",
    "gb_score = roc_auc_score(y_test, gb_gs.best_estimator_.predict_proba(X_test)[:, 1])"
   ]
  },
  {
   "cell_type": "code",
   "execution_count": 10,
   "metadata": {},
   "outputs": [],
   "source": [
    "cb = CatBoostClassifier(n_estimators=20, silent=True)\n",
    "cb.fit(X_train, y_train)\n",
    "cb_score = roc_auc_score(y_test, cb.predict_proba(X_test)[:,1])"
   ]
  },
  {
   "cell_type": "code",
   "execution_count": 11,
   "metadata": {},
   "outputs": [
    {
     "data": {
      "text/html": [
       "<div>\n",
       "<style scoped>\n",
       "    .dataframe tbody tr th:only-of-type {\n",
       "        vertical-align: middle;\n",
       "    }\n",
       "\n",
       "    .dataframe tbody tr th {\n",
       "        vertical-align: top;\n",
       "    }\n",
       "\n",
       "    .dataframe thead th {\n",
       "        text-align: right;\n",
       "    }\n",
       "</style>\n",
       "<table border=\"1\" class=\"dataframe\">\n",
       "  <thead>\n",
       "    <tr style=\"text-align: right;\">\n",
       "      <th></th>\n",
       "      <th>model</th>\n",
       "      <th>score</th>\n",
       "    </tr>\n",
       "  </thead>\n",
       "  <tbody>\n",
       "    <tr>\n",
       "      <th>0</th>\n",
       "      <td>LinearRegression</td>\n",
       "      <td>0.724296</td>\n",
       "    </tr>\n",
       "    <tr>\n",
       "      <th>1</th>\n",
       "      <td>DecisionTreeClassifier</td>\n",
       "      <td>0.733775</td>\n",
       "    </tr>\n",
       "    <tr>\n",
       "      <th>2</th>\n",
       "      <td>RandomForestClassifier</td>\n",
       "      <td>0.761004</td>\n",
       "    </tr>\n",
       "    <tr>\n",
       "      <th>3</th>\n",
       "      <td>GradientBoostingClassifier</td>\n",
       "      <td>0.761890</td>\n",
       "    </tr>\n",
       "    <tr>\n",
       "      <th>4</th>\n",
       "      <td>CatBoostClassifier</td>\n",
       "      <td>0.754539</td>\n",
       "    </tr>\n",
       "  </tbody>\n",
       "</table>\n",
       "</div>"
      ],
      "text/plain": [
       "                        model     score\n",
       "0            LinearRegression  0.724296\n",
       "1      DecisionTreeClassifier  0.733775\n",
       "2      RandomForestClassifier  0.761004\n",
       "3  GradientBoostingClassifier  0.761890\n",
       "4          CatBoostClassifier  0.754539"
      ]
     },
     "execution_count": 11,
     "metadata": {},
     "output_type": "execute_result"
    }
   ],
   "source": [
    "pd.DataFrame({\"model\" : [\"LinearRegression\", \"DecisionTreeClassifier\", \"RandomForestClassifier\",  \"GradientBoostingClassifier\",  \"CatBoostClassifier\"], \n",
    "              \"score\" : [linreg_score, dt_score, rf_score, gb_score, cb_score]})"
   ]
  },
  {
   "cell_type": "markdown",
   "metadata": {},
   "source": [
    "Writing answers"
   ]
  },
  {
   "cell_type": "code",
   "execution_count": 12,
   "metadata": {},
   "outputs": [],
   "source": [
    "cb.fit(train_df.drop(columns=['Answer', 'Question']), train_df['Answer'])\n",
    "answ = pd.read_csv('baseline_solution.csv').set_index('v')\n",
    "answ['a'] = cb.predict_proba(test_df.drop(columns=\"Question\"))[:,1]\n",
    "answ.to_csv('result_catboost.csv', header=False)"
   ]
  },
  {
   "cell_type": "code",
   "execution_count": 13,
   "metadata": {},
   "outputs": [],
   "source": [
    "gb_gs.best_estimator_.fit(train_df.drop(columns=['Answer', 'Question']), train_df['Answer'])\n",
    "answ = pd.read_csv('baseline_solution.csv').set_index('v')\n",
    "answ['a'] = gb_gs.best_estimator_.predict_proba(test_df.drop(columns=\"Question\"))[:,1]\n",
    "answ.to_csv('result_sklearn.csv', header=False)"
   ]
  }
 ],
 "metadata": {
  "kernelspec": {
   "display_name": "Python 3",
   "language": "python",
   "name": "python3"
  },
  "language_info": {
   "codemirror_mode": {
    "name": "ipython",
    "version": 3
   },
   "file_extension": ".py",
   "mimetype": "text/x-python",
   "name": "python",
   "nbconvert_exporter": "python",
   "pygments_lexer": "ipython3",
   "version": "3.7.5"
  }
 },
 "nbformat": 4,
 "nbformat_minor": 4
}
